{
 "cells": [
  {
   "cell_type": "markdown",
   "id": "ecb7c11b",
   "metadata": {},
   "source": [
    "# Non-linear offset-free MPC\n",
    "\n",
    "In this notebook, we will design an offset-free model predictive control (MPC) for a heat exchanger using noisy output measurements. In contrast to the nonlinear tracking MPC controller for the same system, we do no longer assume that we have complete and error-free access to system states and disturbances, or that the prediction model agrees perfectly with the true system dynamics (here represented by a simulation model). Instead, we use an extended Kalman filter to estimate the system states and disturbances, and we use slightly different model parameters for the simulation model. Nevertheless, as we will see, the resulting controller is able to attain error-free tracking in face of system disturbances.\n",
    "\n",
    "## Define the model parameters\n",
    "\n",
    "We begin by defining the model parameters for the heat exchanger.\n"
   ]
  },
  {
   "cell_type": "code",
   "execution_count": 12,
   "id": "0f88ef9d",
   "metadata": {},
   "outputs": [],
   "source": [
    "import casadi as ca\n",
    "import numpy as np\n",
    "import matplotlib.pyplot as plt\n",
    "from openmpc.filters import EKF, KFParameters\n",
    "from openmpc.models import NonlinearSystem\n",
    "from openmpc.mpc import SetPointTrackingNMPC, MPCProblem\n",
    "\n",
    "# Define the model parameters\n",
    "C_hot = 5000  # Heat capacity of hot fluid (J/K)\n",
    "C_cold = 5000  # Heat capacity of cold fluid (J/K)\n",
    "c_p_hot = 2000  # Specific heat capacity of hot fluid (J/kg·K)\n",
    "c_p_cold = 4184  # Specific heat capacity of cold fluid (J/kg·K)\n",
    "U = 500  # Overall heat transfer coefficient (W/m²*K)\n",
    "A = 50  # Heat transfer area (m²)"
   ]
  },
  {
   "cell_type": "markdown",
   "id": "7189c6b1",
   "metadata": {},
   "source": [
    "## Define the System States and Control Inputs\n",
    "\n",
    "We will now define the system states and control inputs.\n"
   ]
  },
  {
   "cell_type": "code",
   "execution_count": 13,
   "id": "931de765",
   "metadata": {},
   "outputs": [],
   "source": [
    "# Define the system states and control inputs\n",
    "T_hot = ca.MX.sym('T_hot')\n",
    "T_hot_in = ca.MX.sym('T_hot_in')\n",
    "T_cold = ca.MX.sym('T_cold')\n",
    "T_cold_in = ca.MX.sym('T_cold_in')\n",
    "m_dot_hot = ca.MX.sym('m_dot_hot')\n",
    "m_dot_cold = ca.MX.sym('m_dot_cold')"
   ]
  },
  {
   "cell_type": "markdown",
   "id": "a1e86211",
   "metadata": {},
   "source": [
    "## Define the Prediction Model\n",
    "\n",
    "Next, we define the prediction model for the heat exchanger.\n"
   ]
  },
  {
   "cell_type": "code",
   "execution_count": 14,
   "id": "c7414da5",
   "metadata": {},
   "outputs": [],
   "source": [
    "# Define prediction model\n",
    "sampling_time = 0.1\n",
    "\n",
    "dT_hot  = (1 / C_hot) * (m_dot_hot * c_p_hot * (T_hot_in - T_hot) - U * A * (T_hot - T_cold))\n",
    "dT_cold = (1 / C_cold) * (m_dot_cold * c_p_cold * (T_cold_in - T_cold) + U * A * (T_hot - T_cold))\n",
    "\n",
    "rhs          = ca.vertcat(dT_hot, dT_cold)\n",
    "states       = ca.vertcat(T_hot, T_cold)\n",
    "inputs       = ca.vertcat(m_dot_hot, m_dot_cold)\n",
    "disturbances = ca.vertcat(T_hot_in, T_cold_in)\n",
    "\n",
    "# Create the NonlinearSystem object\n",
    "heat_exchanger_system = NonlinearSystem.c2d(updfcn=rhs, states=states, inputs=inputs, disturbances=disturbances, outfcn=states,dt = sampling_time)"
   ]
  },
  {
   "cell_type": "markdown",
   "id": "3f1f4553",
   "metadata": {},
   "source": [
    "## Define Disturbance Profiles and Desired Output\n",
    "\n",
    "We define the disturbance profiles and the desired output temperatures for the heat exchanger.\n"
   ]
  },
  {
   "cell_type": "code",
   "execution_count": 15,
   "id": "8e9c15fa",
   "metadata": {},
   "outputs": [],
   "source": [
    "# Define disturbance profiles\n",
    "T_hot_in = 150  # Nominal inlet temperature of hot fluid (°C)\n",
    "T_cold_in = 25  # Nominal inlet temperature of cold fluid (°C)\n",
    "\n",
    "# Define desired outlet temperatures\n",
    "T_hot_ref = 110  # Desired outlet temperature of hot fluid (°C)\n",
    "T_cold_ref = 50  # Desired outlet temperature of cold fluid (°C)\n",
    "\n",
    "# Define initial state of the plant\n",
    "T_hot_0 = 120  # Initial temperature of hot fluid (°C)\n",
    "T_cold_0 = 40  # Initial temperature of cold fluid (°C)"
   ]
  },
  {
   "cell_type": "markdown",
   "id": "fb80f553",
   "metadata": {},
   "source": [
    "## Define the MPC Controller\n",
    "\n",
    "Now, we define the MPC controller using the prediction model and other parameters.\n",
    "\n"
   ]
  },
  {
   "cell_type": "code",
   "execution_count": 16,
   "id": "856af5c7",
   "metadata": {},
   "outputs": [],
   "source": [
    "Q=np.diag([1, 1])\n",
    "R=np.diag([0.1, 0.05])\n",
    "\n",
    "# Compute the LQR controller and the corresponding Riccati solution\n",
    "dnom = np.array([T_hot_in, T_cold_in])\n",
    "yref = np.array([T_hot_ref, T_cold_ref])\n",
    "(xref, uref) = heat_exchanger_system.get_target_point(yref, dnom)"
   ]
  },
  {
   "cell_type": "code",
   "execution_count": 17,
   "id": "3a327b21",
   "metadata": {},
   "outputs": [],
   "source": [
    "L, P = heat_exchanger_system.compute_lqr_controller(Q     = Q, \n",
    "                                                    R     = R,\n",
    "                                                    x_ref = xref,\n",
    "                                                    u_ref = uref, \n",
    "                                                    d_ref = dnom)\n",
    "\n",
    "mpc_problem = MPCProblem(system = heat_exchanger_system,\n",
    "                          horizon = 10, \n",
    "                          Q     = Q, \n",
    "                          R     = R, \n",
    "                          QT    = P)\n",
    "\n",
    "mpc_problem.add_input_bound_constraint(limits = (1,20), input_index=0,is_hard=False,penalty_weight=1e6)# set constraint on the first input\n",
    "mpc_problem.add_input_bound_constraint(limits = (1,30), input_index=1,is_hard=False,penalty_weight=1e6)# set constraints on the second input\n",
    "mpc_problem.add_dual_mode(horizon=5, controller=L)\n",
    "mpc_problem.add_reference_controller(L)\n",
    "\n",
    "\n",
    "# Initialize the MPC controller\n",
    "mpc = SetPointTrackingNMPC(mpc_problem)"
   ]
  },
  {
   "cell_type": "markdown",
   "id": "509b29cb",
   "metadata": {},
   "source": [
    "## Define the Simulation Model\n",
    "\n",
    "We define the simulation model for the heat exchanger. Note that in this case, we use slightly different `c_p` values. This model is represents the real plant of which we do not have perfect informaiton. Indeed, the model we use in the MPC and the Kalman filter has a slightly different `c_p` value to represent this model mistmatch between the model that is known and the real model.\n"
   ]
  },
  {
   "cell_type": "code",
   "execution_count": 18,
   "id": "fdd11787",
   "metadata": {},
   "outputs": [],
   "source": [
    "def create_simulation_model(sampling_time= 0.1):\n",
    "    \"\"\"\n",
    "    Create the simulation model with system dynamics.\n",
    "\n",
    "    Returns:\n",
    "    NonlinearSystem: A NonlinearSystem object representing the simulation model.\n",
    "    \"\"\"\n",
    "    # Define the system dynamics for the simulation model\n",
    "    T_hot = ca.MX.sym('T_hot')\n",
    "    T_cold = ca.MX.sym('T_cold')\n",
    "    m_dot_hot = ca.MX.sym('m_dot_hot')\n",
    "    m_dot_cold = ca.MX.sym('m_dot_cold')\n",
    "    T_hot_in = ca.MX.sym('T_hot_in')\n",
    "    T_cold_in = ca.MX.sym('T_cold_in')\n",
    "\n",
    "    # Define the model parameters\n",
    "    C_hot = 5000  # Heat capacity of hot fluid (J/K)\n",
    "    C_cold = 5000  # Heat capacity of cold fluid (J/K)\n",
    "    c_p_hot = 2500  # Specific heat capacity of hot fluid (J/kg·K)\n",
    "    c_p_cold = 4000  # Specific heat capacity of cold fluid (J/kg·K)\n",
    "    U = 500  # Overall heat transfer coefficient (W/m²*K)\n",
    "    A = 50  # Heat transfer area (m²)\n",
    "\n",
    "    # Define the system dynamics\n",
    "    dT_hot = (1 / C_hot) * (m_dot_hot * c_p_hot * (T_hot_in - T_hot) - U * A * (T_hot - T_cold))\n",
    "    dT_cold = (1 / C_cold) * (m_dot_cold * c_p_cold * (T_cold_in - T_cold) + U * A * (T_hot - T_cold))\n",
    "\n",
    "    rhs = ca.vertcat(\n",
    "        dT_hot,           # dT_hot/dt\n",
    "        dT_cold           # dT_cold/dt\n",
    "    )\n",
    "\n",
    "    # Define state, input, and disturbance vectors\n",
    "    x = ca.vertcat(T_hot, T_cold)\n",
    "    u = ca.vertcat(m_dot_hot, m_dot_cold)\n",
    "    d = ca.vertcat(T_hot_in, T_cold_in)\n",
    "\n",
    "    # Create the NonlinearSystem object\n",
    "    simulation_model = NonlinearSystem.c2d(updfcn=rhs, states=x, inputs=u, disturbances=d, dt=sampling_time)\n",
    "\n",
    "    return simulation_model\n",
    "\n",
    "# Create the simulation model\n",
    "simulation_model = create_simulation_model(sampling_time=sampling_time)\n"
   ]
  },
  {
   "cell_type": "markdown",
   "id": "83176c05",
   "metadata": {},
   "source": [
    "## Define the EKF (Extended Kalman Filter)\n",
    "\n",
    "We define the EKF for state and disturbance estimation using the prediction model.\n"
   ]
  },
  {
   "cell_type": "code",
   "execution_count": 19,
   "id": "13888fb0",
   "metadata": {},
   "outputs": [],
   "source": [
    "# Define the initial state and covariance estimates\n",
    "x0_est = np.array([120, 50]) # Initial state estimate\n",
    "d0_est = np.array([120, 50]) # Initial disturbance estimate\n",
    "\n",
    "Px0_est = 1000*np.eye(2)  # Initial state covariance\n",
    "Pd0_est = 1000*np.eye(2)  # Initial disturbance covariance\n",
    "\n",
    "# Define the process noise and measurement noise covariance matrices\n",
    "Sigma_w  = np.diag([0.001, 0.001])  # Process noise covariance\n",
    "Sigma_wd = np.diag([0.001, 0.001])  # Disturbance noise covariance\n",
    "Sigma_v  = np.diag([0.01, 0.01])  # Measurement noise covariance\n",
    "\n",
    "\n",
    "ekf_parameters = KFParameters(system  = heat_exchanger_system, \n",
    "                              Sigma_w = Sigma_w,\n",
    "                              Sigma_v = Sigma_v,\n",
    "                              P0      = Px0_est,\n",
    "                              x0      = x0_est)\n",
    "\n",
    "ekf_parameters.add_constant_disturbance_prediction(Sigma_wd, d0_est, Pd0_est)\n",
    "\n",
    "ekf = EKF(ekf_parameters)"
   ]
  },
  {
   "cell_type": "markdown",
   "id": "5e51f4b4",
   "metadata": {},
   "source": [
    "## Set Up Simulation\n",
    "\n",
    "We will now set up the simulation environment and initialize the state and control trajectories for the simulation.\n"
   ]
  },
  {
   "cell_type": "code",
   "execution_count": 20,
   "id": "5755fe6e",
   "metadata": {},
   "outputs": [],
   "source": [
    "# Simulation time\n",
    "Tsim = 20  # Final time (hours)\n",
    "time = np.arange(0, Tsim, sampling_time)\n",
    "\n",
    "# Define the initial conditions\n",
    "T_hot_0 = 120  # Initial temperature of hot fluid (°C)\n",
    "T_cold_0 = 40  # Initial temperature of cold fluid (°C)"
   ]
  },
  {
   "cell_type": "markdown",
   "id": "25dd0f7b",
   "metadata": {},
   "source": [
    "## Run the Simulation\n",
    "\n",
    "We run the simulation loop, update the EKF with the new measurements, and compute the control actions using the MPC.\n"
   ]
  },
  {
   "cell_type": "code",
   "execution_count": 21,
   "id": "a1201d1a",
   "metadata": {},
   "outputs": [
    {
     "name": "stdout",
     "output_type": "stream",
     "text": [
      "X_initial : (2, 16)\n",
      "V_initial : (2, 10)\n",
      "Solver failed: Error in Function::call for 'MPCPlanner' [MXFunction] at .../casadi/core/function.cpp:361:\n",
      "Error in Function::operator() for 'solver' [IpoptInterface] at .../casadi/core/function.cpp:1513:\n",
      ".../casadi/core/nlpsol.cpp:781: nlpsol process failed. Set 'error_on_fail' option to false to ignore this error.\n",
      "Error at simulation step 0: Error in Function::call for 'MPCPlanner' [MXFunction] at .../casadi/core/function.cpp:361:\n",
      "Error in Function::operator() for 'solver' [IpoptInterface] at .../casadi/core/function.cpp:1513:\n",
      ".../casadi/core/nlpsol.cpp:781: nlpsol process failed. Set 'error_on_fail' option to false to ignore this error.\n"
     ]
    },
    {
     "name": "stderr",
     "output_type": "stream",
     "text": [
      "Function solver (0x5afc1cfbf820)\n",
      "Input 0 (x0): [120, 50, 114.372, 46.9361, 112.85, 46.1077, 112.439, 45.8837, 112.327, 45.8231, 112.297, 45.8067, 112.289, 45.8023, 112.287, 45.8011, 112.286, 45.8008, 112.286, 45.8007, 112.286, 45.8006, 112.286, 45.8006, 112.286, 45.8006, 112.286, 45.8006, 112.286, 45.8006, 112.286, 45.8006, 3.9625, 0.520359, 2.00322, 1.45126, 1.47344, 1.70298, 1.33019, 1.77104, 1.29146, 1.78944, 1.28098, 1.79442, 1.27815, 1.79576, 1.27739, 1.79613, 1.27718, 1.79623, 1.27712, 1.79625, 0, 0, 0, 0, 0, 0, 0, 0, 0, 0, 0, 0, 0, 0, 0, 0, 0, 0, 0, 0]\n",
      "Input 1 (p): [120, 50, 110, 50, 34.1708, 24.0571, 120, 50]\n",
      "Input 2 (lbx): [-inf, -inf, -inf, -inf, -inf, -inf, -inf, -inf, -inf, -inf, -inf, -inf, -inf, -inf, -inf, -inf, -inf, -inf, -inf, -inf, -inf, -inf, -inf, -inf, -inf, -inf, -inf, -inf, -inf, -inf, -inf, -inf, -inf, -inf, -inf, -inf, -inf, -inf, -inf, -inf, -inf, -inf, -inf, -inf, -inf, -inf, -inf, -inf, -inf, -inf, -inf, -inf, -inf, -inf, -inf, -inf, -inf, -inf, -inf, -inf, -inf, -inf, -inf, -inf, -inf, -inf, -inf, -inf, -inf, -inf, -inf, -inf]\n",
      "Input 3 (ubx): [inf, inf, inf, inf, inf, inf, inf, inf, inf, inf, inf, inf, inf, inf, inf, inf, inf, inf, inf, inf, inf, inf, inf, inf, inf, inf, inf, inf, inf, inf, inf, inf, inf, inf, inf, inf, inf, inf, inf, inf, inf, inf, inf, inf, inf, inf, inf, inf, inf, inf, inf, inf, inf, inf, inf, inf, inf, inf, inf, inf, inf, inf, inf, inf, inf, inf, inf, inf, inf, inf, inf, inf]\n",
      "Input 4 (lbg): [120, 50, 0, 0, -inf, -inf, -inf, -inf, 0, 0, -inf, -inf, -inf, -inf, 0, 0, -inf, -inf, -inf, -inf, 0, 0, -inf, -inf, -inf, -inf, 0, 0, -inf, -inf, -inf, -inf, 0, 0, -inf, -inf, -inf, -inf, 0, 0, -inf, -inf, -inf, -inf, 0, 0, -inf, -inf, -inf, -inf, 0, 0, -inf, -inf, -inf, -inf, 0, 0, -inf, -inf, -inf, -inf, 0, 0, -inf, -inf, -inf, -inf, 0, 0, -inf, -inf, -inf, -inf, 0, 0, -inf, -inf, -inf, -inf, 0, 0, -inf, -inf, -inf, -inf, 0, 0, -inf, -inf, -inf, -inf]\n",
      "Input 5 (ubg): [120, 50, 0, 0, 0, 0, 0, 0, 0, 0, 0, 0, 0, 0, 0, 0, 0, 0, 0, 0, 0, 0, 0, 0, 0, 0, 0, 0, 0, 0, 0, 0, 0, 0, 0, 0, 0, 0, 0, 0, 0, 0, 0, 0, 0, 0, 0, 0, 0, 0, 0, 0, 0, 0, 0, 0, 0, 0, 0, 0, 0, 0, 0, 0, 20, -1, 30, -1, 0, 0, 20, -1, 30, -1, 0, 0, 20, -1, 30, -1, 0, 0, 20, -1, 30, -1, 0, 0, 20, -1, 30, -1]\n",
      "Input 6 (lam_x0): [0, 0, 0, 0, 0, 0, 0, 0, 0, 0, 0, 0, 0, 0, 0, 0, 0, 0, 0, 0, 0, 0, 0, 0, 0, 0, 0, 0, 0, 0, 0, 0, 0, 0, 0, 0, 0, 0, 0, 0, 0, 0, 0, 0, 0, 0, 0, 0, 0, 0, 0, 0, 0, 0, 0, 0, 0, 0, 0, 0, 0, 0, 0, 0, 0, 0, 0, 0, 0, 0, 0, 0]\n",
      "Input 7 (lam_g0): [0, 0, 0, 0, 0, 0, 0, 0, 0, 0, 0, 0, 0, 0, 0, 0, 0, 0, 0, 0, 0, 0, 0, 0, 0, 0, 0, 0, 0, 0, 0, 0, 0, 0, 0, 0, 0, 0, 0, 0, 0, 0, 0, 0, 0, 0, 0, 0, 0, 0, 0, 0, 0, 0, 0, 0, 0, 0, 0, 0, 0, 0, 0, 0, 0, 0, 0, 0, 0, 0, 0, 0, 0, 0, 0, 0, 0, 0, 0, 0, 0, 0, 0, 0, 0, 0, 0, 0, 0, 0, 0, 0]\n"
     ]
    }
   ],
   "source": [
    "# Initial state\n",
    "x0   = np.array([T_hot_ref, T_cold_ref])\n",
    "yref = np.array([T_hot_ref, T_cold_ref])\n",
    "d    = np.array([T_hot_in, T_cold_in])\n",
    "\n",
    "# Initialize state and control trajectories for simulation\n",
    "x_sim = [x0]\n",
    "u_sim = []\n",
    "\n",
    "\n",
    "for k in range(len(time)):\n",
    "    x_current = x_sim[-1] # tracks the real state of the plant after the application of the true input and disturbance\n",
    "\n",
    "    x_hat = ekf.get_state_estimate()       # get state estimate\n",
    "    d_hat = ekf.get_disturbance_estimate() # distrurbacne estimat\n",
    "    \n",
    "    if time[k] > 5:\n",
    "        d[1] = T_cold_in + 5\n",
    "\n",
    "    if time[k] > 10:\n",
    "        yref[0] = T_hot_ref - 10\n",
    "    \n",
    "    # take control action based on estimate of the plant state\n",
    "    try: \n",
    "        u_current = mpc.get_control_action(x = x_hat, yref = yref, d = d_hat)\n",
    "    except Exception as e:\n",
    "        print(f\"Error at simulation step {k}: {e}\")\n",
    "        break\n",
    "\n",
    "    # Integrate the state using the simulation model (simulates real system response to the given input)\n",
    "    x_next = simulation_model.updfcn(x_current, u_current, d).full().flatten()\n",
    "     \n",
    "    # Simulate a measurement (adding random noise to the perfect measurement)\n",
    "    y_meas = np.array([x_next[0], x_next[1]]) + np.random.multivariate_normal(np.zeros(2), ekf.Sigma_v)\n",
    "    \n",
    "    # Update the EKF with the new measurement\n",
    "    ekf.prediction_update(u_current)\n",
    "    ekf.measurement_update(y = y_meas, u = u_current)\n",
    "\n",
    "    # Store the control action and the next state\n",
    "    u_sim.append(u_current)\n",
    "    x_sim.append(x_next)\n",
    "\n",
    "    # Print status every hour of simulation time\n",
    "    if (k + 1) % int(1 / sampling_time) == 0:\n",
    "        sim_time = (k + 1) * sampling_time\n",
    "        print(f\"Simulation time: {sim_time:.2f} hours. Current system state: {x_next}\")\n",
    "\n",
    "# Convert simulation results to numpy arrays for easier manipulation\n",
    "x_sim = np.array(x_sim)\n",
    "u_sim = np.array(u_sim)"
   ]
  },
  {
   "cell_type": "code",
   "execution_count": 22,
   "id": "32be0233",
   "metadata": {},
   "outputs": [
    {
     "ename": "ValueError",
     "evalue": "x and y must have same first dimension, but have shapes (200,) and (0,)",
     "output_type": "error",
     "traceback": [
      "\u001b[0;31m---------------------------------------------------------------------------\u001b[0m",
      "\u001b[0;31mValueError\u001b[0m                                Traceback (most recent call last)",
      "Cell \u001b[0;32mIn[22], line 15\u001b[0m\n\u001b[1;32m     12\u001b[0m fig, (ax1, ax2) \u001b[38;5;241m=\u001b[39m plt\u001b[38;5;241m.\u001b[39msubplots(\u001b[38;5;241m2\u001b[39m, \u001b[38;5;241m1\u001b[39m, figsize\u001b[38;5;241m=\u001b[39m(\u001b[38;5;241m12\u001b[39m, \u001b[38;5;241m10\u001b[39m))\n\u001b[1;32m     14\u001b[0m \u001b[38;5;66;03m# Plot the state trajectories on the first subplot\u001b[39;00m\n\u001b[0;32m---> 15\u001b[0m \u001b[43max1\u001b[49m\u001b[38;5;241;43m.\u001b[39;49m\u001b[43mplot\u001b[49m\u001b[43m(\u001b[49m\u001b[43mt_sim\u001b[49m\u001b[43m,\u001b[49m\u001b[43m \u001b[49m\u001b[43mx_sim_array\u001b[49m\u001b[43m[\u001b[49m\u001b[43m:\u001b[49m\u001b[38;5;241;43m-\u001b[39;49m\u001b[38;5;241;43m1\u001b[39;49m\u001b[43m,\u001b[49m\u001b[43m \u001b[49m\u001b[38;5;241;43m0\u001b[39;49m\u001b[43m]\u001b[49m\u001b[43m,\u001b[49m\u001b[43m \u001b[49m\u001b[43mlabel\u001b[49m\u001b[38;5;241;43m=\u001b[39;49m\u001b[38;5;124;43m'\u001b[39;49m\u001b[38;5;124;43mHot Fluid Temperature\u001b[39;49m\u001b[38;5;124;43m'\u001b[39;49m\u001b[43m,\u001b[49m\u001b[43m \u001b[49m\u001b[43mcolor\u001b[49m\u001b[38;5;241;43m=\u001b[39;49m\u001b[38;5;124;43m'\u001b[39;49m\u001b[38;5;124;43m#AA3939\u001b[39;49m\u001b[38;5;124;43m'\u001b[39;49m\u001b[43m,\u001b[49m\u001b[43m \u001b[49m\u001b[43mlinewidth\u001b[49m\u001b[38;5;241;43m=\u001b[39;49m\u001b[38;5;241;43m2\u001b[39;49m\u001b[43m)\u001b[49m\n\u001b[1;32m     16\u001b[0m ax1\u001b[38;5;241m.\u001b[39mplot(t_sim, x_sim_array[:\u001b[38;5;241m-\u001b[39m\u001b[38;5;241m1\u001b[39m, \u001b[38;5;241m1\u001b[39m], label\u001b[38;5;241m=\u001b[39m\u001b[38;5;124m'\u001b[39m\u001b[38;5;124mCold Fluid Temperature\u001b[39m\u001b[38;5;124m'\u001b[39m, color\u001b[38;5;241m=\u001b[39m\u001b[38;5;124m'\u001b[39m\u001b[38;5;124m#004791\u001b[39m\u001b[38;5;124m'\u001b[39m, linewidth\u001b[38;5;241m=\u001b[39m\u001b[38;5;241m2\u001b[39m)\n\u001b[1;32m     18\u001b[0m \u001b[38;5;66;03m# Update reference values to reflect the change at T = 10\u001b[39;00m\n",
      "File \u001b[0;32m~/Desktop/OpenMPC/.venv/lib/python3.10/site-packages/matplotlib/axes/_axes.py:1777\u001b[0m, in \u001b[0;36mAxes.plot\u001b[0;34m(self, scalex, scaley, data, *args, **kwargs)\u001b[0m\n\u001b[1;32m   1534\u001b[0m \u001b[38;5;250m\u001b[39m\u001b[38;5;124;03m\"\"\"\u001b[39;00m\n\u001b[1;32m   1535\u001b[0m \u001b[38;5;124;03mPlot y versus x as lines and/or markers.\u001b[39;00m\n\u001b[1;32m   1536\u001b[0m \n\u001b[0;32m   (...)\u001b[0m\n\u001b[1;32m   1774\u001b[0m \u001b[38;5;124;03m(``'green'``) or hex strings (``'#008000'``).\u001b[39;00m\n\u001b[1;32m   1775\u001b[0m \u001b[38;5;124;03m\"\"\"\u001b[39;00m\n\u001b[1;32m   1776\u001b[0m kwargs \u001b[38;5;241m=\u001b[39m cbook\u001b[38;5;241m.\u001b[39mnormalize_kwargs(kwargs, mlines\u001b[38;5;241m.\u001b[39mLine2D)\n\u001b[0;32m-> 1777\u001b[0m lines \u001b[38;5;241m=\u001b[39m [\u001b[38;5;241m*\u001b[39m\u001b[38;5;28mself\u001b[39m\u001b[38;5;241m.\u001b[39m_get_lines(\u001b[38;5;28mself\u001b[39m, \u001b[38;5;241m*\u001b[39margs, data\u001b[38;5;241m=\u001b[39mdata, \u001b[38;5;241m*\u001b[39m\u001b[38;5;241m*\u001b[39mkwargs)]\n\u001b[1;32m   1778\u001b[0m \u001b[38;5;28;01mfor\u001b[39;00m line \u001b[38;5;129;01min\u001b[39;00m lines:\n\u001b[1;32m   1779\u001b[0m     \u001b[38;5;28mself\u001b[39m\u001b[38;5;241m.\u001b[39madd_line(line)\n",
      "File \u001b[0;32m~/Desktop/OpenMPC/.venv/lib/python3.10/site-packages/matplotlib/axes/_base.py:297\u001b[0m, in \u001b[0;36m_process_plot_var_args.__call__\u001b[0;34m(self, axes, data, return_kwargs, *args, **kwargs)\u001b[0m\n\u001b[1;32m    295\u001b[0m     this \u001b[38;5;241m+\u001b[39m\u001b[38;5;241m=\u001b[39m args[\u001b[38;5;241m0\u001b[39m],\n\u001b[1;32m    296\u001b[0m     args \u001b[38;5;241m=\u001b[39m args[\u001b[38;5;241m1\u001b[39m:]\n\u001b[0;32m--> 297\u001b[0m \u001b[38;5;28;01myield from\u001b[39;00m \u001b[38;5;28;43mself\u001b[39;49m\u001b[38;5;241;43m.\u001b[39;49m\u001b[43m_plot_args\u001b[49m\u001b[43m(\u001b[49m\n\u001b[1;32m    298\u001b[0m \u001b[43m    \u001b[49m\u001b[43maxes\u001b[49m\u001b[43m,\u001b[49m\u001b[43m \u001b[49m\u001b[43mthis\u001b[49m\u001b[43m,\u001b[49m\u001b[43m \u001b[49m\u001b[43mkwargs\u001b[49m\u001b[43m,\u001b[49m\u001b[43m \u001b[49m\u001b[43mambiguous_fmt_datakey\u001b[49m\u001b[38;5;241;43m=\u001b[39;49m\u001b[43mambiguous_fmt_datakey\u001b[49m\u001b[43m,\u001b[49m\n\u001b[1;32m    299\u001b[0m \u001b[43m    \u001b[49m\u001b[43mreturn_kwargs\u001b[49m\u001b[38;5;241;43m=\u001b[39;49m\u001b[43mreturn_kwargs\u001b[49m\n\u001b[1;32m    300\u001b[0m \u001b[43m\u001b[49m\u001b[43m)\u001b[49m\n",
      "File \u001b[0;32m~/Desktop/OpenMPC/.venv/lib/python3.10/site-packages/matplotlib/axes/_base.py:494\u001b[0m, in \u001b[0;36m_process_plot_var_args._plot_args\u001b[0;34m(self, axes, tup, kwargs, return_kwargs, ambiguous_fmt_datakey)\u001b[0m\n\u001b[1;32m    491\u001b[0m     axes\u001b[38;5;241m.\u001b[39myaxis\u001b[38;5;241m.\u001b[39mupdate_units(y)\n\u001b[1;32m    493\u001b[0m \u001b[38;5;28;01mif\u001b[39;00m x\u001b[38;5;241m.\u001b[39mshape[\u001b[38;5;241m0\u001b[39m] \u001b[38;5;241m!=\u001b[39m y\u001b[38;5;241m.\u001b[39mshape[\u001b[38;5;241m0\u001b[39m]:\n\u001b[0;32m--> 494\u001b[0m     \u001b[38;5;28;01mraise\u001b[39;00m \u001b[38;5;167;01mValueError\u001b[39;00m(\u001b[38;5;124mf\u001b[39m\u001b[38;5;124m\"\u001b[39m\u001b[38;5;124mx and y must have same first dimension, but \u001b[39m\u001b[38;5;124m\"\u001b[39m\n\u001b[1;32m    495\u001b[0m                      \u001b[38;5;124mf\u001b[39m\u001b[38;5;124m\"\u001b[39m\u001b[38;5;124mhave shapes \u001b[39m\u001b[38;5;132;01m{\u001b[39;00mx\u001b[38;5;241m.\u001b[39mshape\u001b[38;5;132;01m}\u001b[39;00m\u001b[38;5;124m and \u001b[39m\u001b[38;5;132;01m{\u001b[39;00my\u001b[38;5;241m.\u001b[39mshape\u001b[38;5;132;01m}\u001b[39;00m\u001b[38;5;124m\"\u001b[39m)\n\u001b[1;32m    496\u001b[0m \u001b[38;5;28;01mif\u001b[39;00m x\u001b[38;5;241m.\u001b[39mndim \u001b[38;5;241m>\u001b[39m \u001b[38;5;241m2\u001b[39m \u001b[38;5;129;01mor\u001b[39;00m y\u001b[38;5;241m.\u001b[39mndim \u001b[38;5;241m>\u001b[39m \u001b[38;5;241m2\u001b[39m:\n\u001b[1;32m    497\u001b[0m     \u001b[38;5;28;01mraise\u001b[39;00m \u001b[38;5;167;01mValueError\u001b[39;00m(\u001b[38;5;124mf\u001b[39m\u001b[38;5;124m\"\u001b[39m\u001b[38;5;124mx and y can be no greater than 2D, but have \u001b[39m\u001b[38;5;124m\"\u001b[39m\n\u001b[1;32m    498\u001b[0m                      \u001b[38;5;124mf\u001b[39m\u001b[38;5;124m\"\u001b[39m\u001b[38;5;124mshapes \u001b[39m\u001b[38;5;132;01m{\u001b[39;00mx\u001b[38;5;241m.\u001b[39mshape\u001b[38;5;132;01m}\u001b[39;00m\u001b[38;5;124m and \u001b[39m\u001b[38;5;132;01m{\u001b[39;00my\u001b[38;5;241m.\u001b[39mshape\u001b[38;5;132;01m}\u001b[39;00m\u001b[38;5;124m\"\u001b[39m)\n",
      "\u001b[0;31mValueError\u001b[0m: x and y must have same first dimension, but have shapes (200,) and (0,)"
     ]
    },
    {
     "data": {
      "image/png": "[encoded data removed]",
      "text/plain": [
       "<Figure size 1200x1000 with 2 Axes>"
      ]
     },
     "metadata": {},
     "output_type": "display_data"
    }
   ],
   "source": [
    "import matplotlib.pyplot as plt\n",
    "import numpy as np\n",
    "\n",
    "# Ensure the simulation result arrays are numpy arrays for easier manipulation\n",
    "x_sim_array = np.array(x_sim)\n",
    "u_sim_array = np.array(u_sim)\n",
    "\n",
    "# Time grid for plotting\n",
    "t_sim = time\n",
    "\n",
    "# Create the figure and subplots\n",
    "fig, (ax1, ax2) = plt.subplots(2, 1, figsize=(12, 10))\n",
    "\n",
    "# Plot the state trajectories on the first subplot\n",
    "ax1.plot(t_sim, x_sim_array[:-1, 0], label='Hot Fluid Temperature', color='#AA3939', linewidth=2)\n",
    "ax1.plot(t_sim, x_sim_array[:-1, 1], label='Cold Fluid Temperature', color='#004791', linewidth=2)\n",
    "\n",
    "# Update reference values to reflect the change at T = 10\n",
    "T_hot_ref_updated = np.array([T_hot_ref if t <= 10 else T_hot_ref-10 for t in t_sim])\n",
    "ax1.plot(t_sim, T_hot_ref_updated, color='#AA3939', linestyle='--', label='Reference Hot Temperature')\n",
    "ax1.axhline(T_cold_ref, color='#004791', linestyle='--', label='Reference Cold Temperature')\n",
    "\n",
    "# Set x-limits\n",
    "ax1.set_xlim([0, Tsim])\n",
    "\n",
    "# Set labels, title, and legend\n",
    "ax1.set_xlabel('Time [hours]', fontsize=18)\n",
    "ax1.set_ylabel('Temperature [°C]', fontsize=18)\n",
    "ax1.legend(fontsize=14)\n",
    "ax1.set_title('Temperature Trajectories', fontsize=18)\n",
    "ax1.grid(True)\n",
    "\n",
    "# Plot the control trajectories on the second subplot\n",
    "ax2.plot(t_sim, u_sim_array[:, 0], label='Hot Fluid Flow Rate', color='#AA3939', linewidth=2)\n",
    "ax2.plot(t_sim, u_sim_array[:, 1], label='Cold Fluid Flow Rate', color='#004791', linewidth=2)\n",
    "\n",
    "# Set x-limits\n",
    "ax2.set_xlim([0, Tsim])\n",
    "\n",
    "# Set labels, title, and legend\n",
    "ax2.set_xlabel('Time [hours]', fontsize=18)\n",
    "ax2.set_ylabel('Flow Rate [kg/s]', fontsize=18)\n",
    "ax2.legend(fontsize=14)\n",
    "ax2.set_title('Flow Rate Trajectories', fontsize=18)\n",
    "ax2.grid(True)\n",
    "\n",
    "# Adjust layout and save the figure as a PDF\n",
    "plt.tight_layout()\n",
    "plt.savefig('heat_exchanger_simulation.pdf', format='pdf')\n",
    "\n",
    "# Display the plot\n",
    "plt.show()\n"
   ]
  },
  {
   "cell_type": "code",
   "execution_count": null,
   "id": "ecc2bacc",
   "metadata": {},
   "outputs": [],
   "source": []
  }
 ],
 "metadata": {
  "kernelspec": {
   "display_name": ".venv",
   "language": "python",
   "name": "python3"
  },
  "language_info": {
   "codemirror_mode": {
    "name": "ipython",
    "version": 3
   },
   "file_extension": ".py",
   "mimetype": "text/x-python",
   "name": "python",
   "nbconvert_exporter": "python",
   "pygments_lexer": "ipython3",
   "version": "3.10.12"
  }
 },
 "nbformat": 4,
 "nbformat_minor": 5
}
