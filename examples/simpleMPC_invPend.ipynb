{
 "cells": [
  {
   "cell_type": "markdown",
   "id": "5aa5ef9a-bde6-4beb-bd43-d07a462b8e55",
   "metadata": {},
   "source": [
    "# Pendulum on Cart System with MPC Control\n",
    "\n",
    "In this notebook, we will simulate a pendulum on a cart system and control it using a Model Predictive Controller (MPC). The goal is to bring the pendulum from a hanging down position to an upright position.\n",
    "\n",
    "## 1. Define the Pendulum System\n",
    "\n",
    "First, we will define the pendulum system with friction and the given model.\n"
   ]
  },
  {
   "cell_type": "code",
   "execution_count": 2,
   "id": "532830cb-16e8-417f-8cb9-9009a06c2e4f",
   "metadata": {},
   "outputs": [
    {
     "ename": "ModuleNotFoundError",
     "evalue": "No module named 'openmpc'",
     "output_type": "error",
     "traceback": [
      "\u001b[0;31m---------------------------------------------------------------------------\u001b[0m",
      "\u001b[0;31mModuleNotFoundError\u001b[0m                       Traceback (most recent call last)",
      "Cell \u001b[0;32mIn[2], line 5\u001b[0m\n\u001b[1;32m      3\u001b[0m \u001b[38;5;28;01mimport\u001b[39;00m \u001b[38;5;21;01mmatplotlib\u001b[39;00m\u001b[38;5;21;01m.\u001b[39;00m\u001b[38;5;21;01mpyplot\u001b[39;00m \u001b[38;5;28;01mas\u001b[39;00m \u001b[38;5;21;01mplt\u001b[39;00m\n\u001b[1;32m      4\u001b[0m \u001b[38;5;28;01mimport\u001b[39;00m \u001b[38;5;21;01mmatplotlib\u001b[39;00m\u001b[38;5;21;01m.\u001b[39;00m\u001b[38;5;21;01mticker\u001b[39;00m \u001b[38;5;28;01mas\u001b[39;00m \u001b[38;5;21;01mticker\u001b[39;00m\n\u001b[0;32m----> 5\u001b[0m \u001b[38;5;28;01mfrom\u001b[39;00m   \u001b[38;5;21;01mopenmpc\u001b[39;00m\u001b[38;5;21;01m.\u001b[39;00m\u001b[38;5;21;01mNonlinearMPC\u001b[39;00m \u001b[38;5;28;01mimport\u001b[39;00m NonlinearSystem\n\u001b[1;32m      7\u001b[0m \u001b[38;5;66;03m# Define the pendulum system with friction and given model\u001b[39;00m\n\u001b[1;32m      8\u001b[0m \u001b[38;5;28;01mdef\u001b[39;00m \u001b[38;5;21mpendulum_system\u001b[39m():\n\u001b[1;32m      9\u001b[0m     \u001b[38;5;66;03m# Pendulum parameters\u001b[39;00m\n",
      "\u001b[0;31mModuleNotFoundError\u001b[0m: No module named 'openmpc'"
     ]
    }
   ],
   "source": [
    "import numpy as np\n",
    "import casadi as ca\n",
    "import matplotlib.pyplot as plt\n",
    "import matplotlib.ticker as ticker\n",
    "from   openmpc.NonlinearMPC import NonlinearSystem\n",
    "\n",
    "# Define the pendulum system with friction and given model\n",
    "def pendulum_system():\n",
    "    # Pendulum parameters\n",
    "    m = 0.2\n",
    "    b = 0.1\n",
    "    l = 0.3\n",
    "    I = 0.006\n",
    "    g = 9.81\n",
    "\n",
    "    a = m * g * l / (I + m * l**2)\n",
    "    c = m * l / (I + m * l**2)\n",
    "\n",
    "    th = ca.MX.sym(\"th\")\n",
    "    thDot = ca.MX.sym(\"thDot\")\n",
    "    u = ca.MX.sym(\"u\")  # Control input\n",
    "\n",
    "    states = ca.vertcat(th, thDot)\n",
    "    inputs = ca.vertcat(u)\n",
    "\n",
    "    # Pendulum dynamics with friction term\n",
    "    rhs = ca.vertcat(\n",
    "        thDot,                     # dth/dt\n",
    "        a * ca.sin(th) + c * ca.cos(th) * u - b * thDot  # dth_dot/dt\n",
    "    )\n",
    "\n",
    "    return states, inputs, rhs\n",
    "\n",
    "# Create the NonlinearSystem object\n",
    "states, inputs, rhs = pendulum_system()\n",
    "output = states  # Output is the state itself\n",
    "nlsys_pendulum = NonlinearSystem(updfcn=rhs, states=states, inputs=inputs, outfcn=output)\n",
    "\n",
    "# Discretize the system\n",
    "dt = 0.1\n",
    "nlsys_pendulum_discrete = nlsys_pendulum.c2d(dt)\n"
   ]
  },
  {
   "cell_type": "markdown",
   "id": "ad41cbcc-dd48-47cd-a01b-fb8f2f296ca8",
   "metadata": {},
   "source": [
    "## 2. Define the MPC Problem\n",
    "\n",
    "Next, we will define the MPC problem data, including the prediction model, cost matrices, horizon, and input/output constraints.\n"
   ]
  },
  {
   "cell_type": "code",
   "execution_count": 2,
   "id": "a250b939-d8ad-4ca9-b99e-59fa5754518f",
   "metadata": {},
   "outputs": [],
   "source": [
    "# Example mpcProblemData\n",
    "mpcProblemData = {\n",
    "    'predictionModel': nlsys_pendulum_discrete,\n",
    "    'T': 20,\n",
    "    'Q': np.eye(2),\n",
    "    'R': np.eye(1),\n",
    "    'QT': 1000 * np.eye(2),\n",
    "    'ulim': 10.0,\n",
    "    'ylim': np.array([np.inf, np.inf]),  # No output constraints\n",
    "    'dt': dt\n",
    "}\n",
    "\n",
    "# Initial state (pendulum hanging down)\n",
    "x0 = np.array([np.pi, 0])\n"
   ]
  },
  {
   "cell_type": "markdown",
   "id": "b6425f54-21ed-49dc-8264-46154c3fa7bc",
   "metadata": {},
   "source": [
    "## 3. Define the MPC Controller Function\n",
    "\n",
    "We define the function to compute the predicted optimal controls using the MPC framework.\n"
   ]
  },
  {
   "cell_type": "code",
   "execution_count": 8,
   "id": "501aa0a3-6714-46f7-ba80-382ca3721662",
   "metadata": {},
   "outputs": [],
   "source": [
    "# Define the MPC controller function\n",
    "def computePredictedOptimalControls(mpcProblemData, x0):\n",
    "    predictionModel = mpcProblemData['predictionModel']\n",
    "    f = predictionModel.updfcn; g = predictionModel.outfcn\n",
    "    n = predictionModel.n; m = predictionModel.m\n",
    "\n",
    "    # Extract cost matrice and horizon\n",
    "    Q = mpcProblemData['Q']; R = mpcProblemData['R']; QT = mpcProblemData['QT']\n",
    "    T = mpcProblemData['T']\n",
    "\n",
    "    # Extract constraint bounds\n",
    "    ulim = mpcProblemData['ulim']; ylim = mpcProblemData['ylim']\n",
    "\n",
    "    # Setup optimization problem and define variables\n",
    "    opti = ca.Opti()\n",
    "    X = opti.variable(n, T+1); U = opti.variable(m, T)\n",
    "\n",
    "    # Define initial state constraint, cost, input/output constraints\n",
    "    cost = 0\n",
    "    opti.subject_to(X[:, 0] == x0)\n",
    "    for t in range(T):\n",
    "        cost += ca.mtimes([X[:, t].T, Q, X[:, t]])\n",
    "        cost += ca.mtimes([U[:, t].T, R, U[:, t]])\n",
    "        opti.subject_to(X[:, t+1] == f(X[:, t], U[:, t]))\n",
    "        opti.subject_to(opti.bounded(-ylim, g(X[:, t], U[:, t]), ylim))\n",
    "        opti.subject_to(opti.bounded(-ulim, U[:, t], ulim))\n",
    "    cost += ca.mtimes([X[:, T].T, QT, X[:, T]])\n",
    "    opti.minimize(cost)\n",
    "\n",
    "    # Pick solver (and options), solve problem, and return solution\n",
    "    opti.solver('ipopt', {\"ipopt\": {\"max_iter\": 1000, \"print_level\": 0}})\n",
    "    sol = opti.solve()\n",
    "    return sol.value(X), sol.value(U)\n",
    "\n",
    "def mpcController(mpcProblemData, x):\n",
    "    x_sol, u_sol = computePredictedOptimalControls(mpcProblemData, x)\n",
    "    return u_sol[0]"
   ]
  },
  {
   "cell_type": "markdown",
   "id": "97a74180-d3ae-414f-95d5-da51010c237c",
   "metadata": {},
   "source": [
    "## 4. Simulate the System with MPC Control\n",
    "\n",
    "Next, we simulate the pendulum system with the MPC controller to bring it from hanging down to standing up.\n"
   ]
  },
  {
   "cell_type": "code",
   "execution_count": null,
   "id": "68c8ba2e-e840-47aa-b7bc-3877f188d9e8",
   "metadata": {},
   "outputs": [],
   "source": [
    "# Simulation parameters\n",
    "Tsim = 10.0  # Total simulation time\n",
    "N_steps = int(Tsim / dt)\n",
    "time = np.linspace(0, Tsim, N_steps + 1)\n",
    "\n",
    "# Initialize arrays to store the simulation results\n",
    "x_sim = np.zeros((2, N_steps + 1))\n",
    "u_sim = np.zeros(N_steps)\n",
    "\n",
    "# Set initial state\n",
    "x_sim[:, 0] = x0\n",
    "\n",
    "# Simulation loop\n",
    "for k in range(N_steps):\n",
    "    # Compute the control input using MPC\n",
    "    u_sim[k] = mpcController(mpcProblemData, x_sim[:, k])\n",
    "    \n",
    "    # Apply the control input to the system\n",
    "    x_sim[:, k + 1] = nlsys_pendulum_discrete.updfcn(x_sim[:, k], u_sim[k]).full().flatten()"
   ]
  },
  {
   "cell_type": "markdown",
   "id": "d7affdeb-85e7-45dc-a976-bab53cab9ee7",
   "metadata": {},
   "source": [
    "## 5. Plot the results\n",
    "\n",
    "Finally, we plot the results.\n"
   ]
  },
  {
   "cell_type": "code",
   "execution_count": null,
   "id": "075934a0-1242-4d41-816f-9863e74025c4",
   "metadata": {},
   "outputs": [],
   "source": [
    "# Plot the results\n",
    "fig, (ax1, ax2) = plt.subplots(2, 1, figsize=(12, 10))\n",
    "\n",
    "# Plot the state trajectories on the first subplot\n",
    "ax1.plot(time, x_sim[0, :], label='theta', linewidth=2)\n",
    "ax1.plot(time, x_sim[1, :], label='theta_dot', linewidth=2)\n",
    "ax1.set_xlabel('Time [s]', fontsize=18)\n",
    "ax1.set_ylabel('State', fontsize=18)\n",
    "ax1.set_xlim([0, Tsim])\n",
    "ax1.set_ylim([-2.5 * np.pi, 2.5 * np.pi])\n",
    "ax1.legend(fontsize=14)\n",
    "ax1.set_title('State Trajectories', fontsize=18)\n",
    "ax1.grid(True)\n",
    "\n",
    "# Set grid steps\n",
    "ax1.xaxis.set_major_locator(ticker.MultipleLocator(1.0))\n",
    "ax1.yaxis.set_major_locator(ticker.MultipleLocator(np.pi / 4))\n",
    "\n",
    "# Plot the control trajectory on the second subplot\n",
    "ax2.step(time[:-1], u_sim, 'k', label='u', where='post', linewidth=2)\n",
    "ax2.set_xlabel('Time [s]', fontsize=18)\n",
    "ax2.set_ylabel('Control', fontsize=18)\n",
    "ax2.set_xlim([0, Tsim])\n",
    "ax2.set_ylim([-10, 10])\n",
    "ax2.legend(fontsize=14)\n",
    "ax2.set_title('Control Trajectory', fontsize=18)\n",
    "ax2.grid(True)\n",
    "\n",
    "# Set grid steps\n",
    "ax2.xaxis.set_major_locator(ticker.MultipleLocator(1.0))\n",
    "ax2.yaxis.set_major_locator(ticker.MultipleLocator(2))\n",
    "\n",
    "# Set tick font size\n",
    "ax1.tick_params(axis='both', which='major', labelsize=14)\n",
    "ax2.tick_params(axis='both', which='major', labelsize=14)\n",
    "\n",
    "# Adjust layout to make space for larger labels\n",
    "plt.tight_layout(pad=3.0)\n",
    "\n",
    "# Save the plot as a PDF file\n",
    "plt.savefig('Figures/mpc_simulation_pendulum.pdf', format='pdf')\n",
    "\n",
    "# Show the plots\n",
    "plt.show()"
   ]
  }
 ],
 "metadata": {
  "kernelspec": {
   "display_name": "Python 3 (ipykernel)",
   "language": "python",
   "name": "python3"
  },
  "language_info": {
   "codemirror_mode": {
    "name": "ipython",
    "version": 3
   },
   "file_extension": ".py",
   "mimetype": "text/x-python",
   "name": "python",
   "nbconvert_exporter": "python",
   "pygments_lexer": "ipython3",
   "version": "3.10.12"
  }
 },
 "nbformat": 4,
 "nbformat_minor": 5
}
